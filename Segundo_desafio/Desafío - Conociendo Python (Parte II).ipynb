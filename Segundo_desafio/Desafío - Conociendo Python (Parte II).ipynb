{
 "cells": [
  {
   "cell_type": "markdown",
   "id": "79220128-cace-4aa8-839d-072624fbec1e",
   "metadata": {},
   "source": [
    "# Segundo Desafío"
   ]
  },
  {
   "cell_type": "markdown",
   "id": "d9996c08-b194-4a8e-b971-f96ab2958c89",
   "metadata": {},
   "source": [
    "## 1. Ejercicio 1: Suma de números pares\n",
    "Escribe un programa que pida al usuario dos números enteros y calcule la suma de\n",
    "todos los números pares entre ellos. El programa deberá imprimir el resultado. (hint:\n",
    "utilice la función range() para generar la secuencia de números enteros)"
   ]
  },
  {
   "cell_type": "code",
   "execution_count": 2,
   "id": "15e7da3f-4a93-4b4d-b2bd-1220d4d3d0a8",
   "metadata": {},
   "outputs": [
    {
     "name": "stdin",
     "output_type": "stream",
     "text": [
      "Ingrese un número 1\n",
      "Ingrese otro un número, debe ser mayor al anterior 7\n"
     ]
    },
    {
     "name": "stdout",
     "output_type": "stream",
     "text": [
      "12\n"
     ]
    }
   ],
   "source": [
    "#Pedimos al usuario los números\n",
    "x1=int(input(\"Ingrese un número\"))\n",
    "x2=int(input(\"Ingrese otro un número, debe ser mayor al anterior\"))\n",
    "\n",
    "#Creo una variable para guardar el resultado de la suma\n",
    "suma=0\n",
    "\n",
    "#Creamos in ciclo for para sumar los números\n",
    "for i in range(x1,x2):\n",
    "    #Nos preguntamos si el número es par\n",
    "    if i%2 == 0:\n",
    "     suma+=i\n",
    "\n",
    "#Mostramos el resultado\n",
    "print(suma)"
   ]
  },
  {
   "cell_type": "markdown",
   "id": "44eaaac2-f634-4c5d-9b85-cfb5a57d6bbe",
   "metadata": {},
   "source": [
    "## Ejercicio 2: Calculadora de áreas\n",
    "Escribe un programa que pida al usuario el tipo de figura geométrica de la que quiere\n",
    "calcular el área (cuadrado, triángulo o círculo) y las medidas correspondientes. El\n",
    "programa deberá calcular y mostrar el área de la figura seleccionada. (hint: para\n",
    "obtener el número pi puedes utilizar la librería math)"
   ]
  },
  {
   "cell_type": "code",
   "execution_count": 19,
   "id": "05e7e571-7b4c-4b16-9b1e-1497b9396c98",
   "metadata": {},
   "outputs": [
    {
     "name": "stdout",
     "output_type": "stream",
     "text": [
      "BIENVENIDO\n",
      "1-Cuadrado\n",
      "2-Círculo\n",
      "3-Triángulo\n"
     ]
    },
    {
     "name": "stdin",
     "output_type": "stream",
     "text": [
      "Por favor, indicar el número de la figura que desea calcular el área:  2\n",
      "Ingrese la medida del radio:  1\n"
     ]
    },
    {
     "name": "stdout",
     "output_type": "stream",
     "text": [
      "El área del círculo es: 3.1\n"
     ]
    }
   ],
   "source": [
    "# Solicitamos al usuario que ingrese la figura\n",
    "print(\"BIENVENIDO\")\n",
    "print(\"1-Cuadrado\\n2-Círculo\\n3-Triángulo\")\n",
    "\n",
    "# Guardamos la respuesta en una variable\n",
    "opcion = int(input(\"Por favor, indicar el número de la figura que desea calcular el área: \"))\n",
    "\n",
    "# Importamos la librería math, para usar pi\n",
    "import math\n",
    "\n",
    "# Utilizamos el if para identificar de qué figura se trata y calculamos el área\n",
    "if opcion == 1:\n",
    "    # Cuadrado, solicitamos la medida del lado\n",
    "    l = int(input(\"Ingrese la medida del lado: \"))\n",
    "    a = l**2\n",
    "    print(f\"El área del cuadrado es: {a}\")\n",
    "elif opcion == 2:\n",
    "    # Círculo, solicitamos la medida del radio\n",
    "    r = int(input(\"Ingrese la medida del radio: \"))\n",
    "    a = math.pi * (r)**2\n",
    "    # Redondeamos el resultado a 1 decimal\n",
    "    a_redondeado = round(a, 1)\n",
    "    print(f\"El área del círculo es: {a_redondeado}\")\n",
    "elif opcion == 3:\n",
    "    # Triángulo, solicitamos las medidas de la base y la altura\n",
    "    b = int(input(\"Ingrese la medida de la base: \"))\n",
    "    h = int(input(\"Ingrese la altura: \"))\n",
    "    a = (b * h) / 2\n",
    "    # Redondeamos el resultado a 1 decimal\n",
    "    a_redondeado = round(a, 1)\n",
    "    print(f\"El área del triángulo es: {a_redondeado}\")\n",
    "else:\n",
    "    print(\"El número ingresado no es correcto. Por favor, intente de nuevo.\")"
   ]
  },
  {
   "cell_type": "markdown",
   "id": "a6155a2c-ae3d-46ea-a446-6f1482e5e09d",
   "metadata": {},
   "source": [
    "## Ejercicio 3: Adivina el número\n",
    "Escribe un programa que genere un número aleatorio entre 1 y 100 y pida al usuario\n",
    "que adivine cuál es. El programa deberá dar pistas al usuario diciendo si el número\n",
    "que ha introducido es mayor o menor que el número aleatorio. El programa deberá\n",
    "continuar pidiendo números hasta que el usuario adivine el número correcto. (hint:\n",
    "utiliza un ciclo while para mantener al programa pidiendo números)"
   ]
  },
  {
   "cell_type": "code",
   "execution_count": 21,
   "id": "f39e2bbc-9b3f-4d8f-8506-bb7b71507533",
   "metadata": {},
   "outputs": [
    {
     "name": "stdout",
     "output_type": "stream",
     "text": [
      "¡BIENVENIDOO!\n"
     ]
    },
    {
     "name": "stdin",
     "output_type": "stream",
     "text": [
      "Ingrese un número entre el 1 y el 100:  90\n"
     ]
    },
    {
     "name": "stdout",
     "output_type": "stream",
     "text": [
      "El número ingresado es mayor. Intenta de nuevo.\n"
     ]
    },
    {
     "name": "stdin",
     "output_type": "stream",
     "text": [
      "Ingrese un número entre el 1 y el 100:  45\n"
     ]
    },
    {
     "name": "stdout",
     "output_type": "stream",
     "text": [
      "El número ingresado es menor. Intenta de nuevo.\n"
     ]
    },
    {
     "name": "stdin",
     "output_type": "stream",
     "text": [
      "Ingrese un número entre el 1 y el 100:  75\n"
     ]
    },
    {
     "name": "stdout",
     "output_type": "stream",
     "text": [
      "El número ingresado es mayor. Intenta de nuevo.\n"
     ]
    },
    {
     "name": "stdin",
     "output_type": "stream",
     "text": [
      "Ingrese un número entre el 1 y el 100:  65\n"
     ]
    },
    {
     "name": "stdout",
     "output_type": "stream",
     "text": [
      "El número ingresado es mayor. Intenta de nuevo.\n"
     ]
    },
    {
     "name": "stdin",
     "output_type": "stream",
     "text": [
      "Ingrese un número entre el 1 y el 100:  50\n"
     ]
    },
    {
     "name": "stdout",
     "output_type": "stream",
     "text": [
      "El número ingresado es menor. Intenta de nuevo.\n"
     ]
    },
    {
     "name": "stdin",
     "output_type": "stream",
     "text": [
      "Ingrese un número entre el 1 y el 100:  55\n"
     ]
    },
    {
     "name": "stdout",
     "output_type": "stream",
     "text": [
      "El número ingresado es menor. Intenta de nuevo.\n"
     ]
    },
    {
     "name": "stdin",
     "output_type": "stream",
     "text": [
      "Ingrese un número entre el 1 y el 100:  56\n"
     ]
    },
    {
     "name": "stdout",
     "output_type": "stream",
     "text": [
      "El número ingresado es menor. Intenta de nuevo.\n"
     ]
    },
    {
     "name": "stdin",
     "output_type": "stream",
     "text": [
      "Ingrese un número entre el 1 y el 100:  58\n"
     ]
    },
    {
     "name": "stdout",
     "output_type": "stream",
     "text": [
      "El número ingresado es menor. Intenta de nuevo.\n"
     ]
    },
    {
     "name": "stdin",
     "output_type": "stream",
     "text": [
      "Ingrese un número entre el 1 y el 100:  60\n"
     ]
    },
    {
     "name": "stdout",
     "output_type": "stream",
     "text": [
      "El número ingresado es menor. Intenta de nuevo.\n"
     ]
    },
    {
     "name": "stdin",
     "output_type": "stream",
     "text": [
      "Ingrese un número entre el 1 y el 100:  62\n"
     ]
    },
    {
     "name": "stdout",
     "output_type": "stream",
     "text": [
      "¡Felicidades! Adivinaste. El número secreto es 62.\n"
     ]
    }
   ],
   "source": [
    "# Importamos la librería random\n",
    "import random\n",
    "\n",
    "# Damos la bienvenida\n",
    "print(\"¡BIENVENIDOO!\")\n",
    "\n",
    "# Creamos la variable para guardar el número secreto\n",
    "x = random.randint(1, 100)\n",
    "\n",
    "# Creamos la variable para iniciar el bucle\n",
    "num = 0\n",
    "\n",
    "# Creamos un ciclo while que continuará mientras el número no sea el correcto\n",
    "while num != x:\n",
    "    try:\n",
    "        # Solicitamos al usuario que ingrese un número\n",
    "        num = int(input(\"Ingrese un número entre el 1 y el 100: \"))\n",
    "\n",
    "        # Comparamos el número que ingresado con el número secreto\n",
    "        if num > x:\n",
    "            print(\"El número ingresado es mayor. Intenta de nuevo.\")\n",
    "        elif num < x:\n",
    "            print(\"El número ingresado es menor. Intenta de nuevo.\")\n",
    "\n",
    "    except ValueError:\n",
    "        print(\"Entrada inválida. Por favor, ingrese otro número.\")\n",
    "\n",
    "# Mostramos el mensaje al finalizar el bucle, es decir, cuando \"num\" es igual a x (número secreto)\n",
    "print(f\"¡Felicidades! Adivinaste. El número secreto es {x}.\")"
   ]
  },
  {
   "cell_type": "markdown",
   "id": "0c295ab1-ef78-44a2-86d9-d803aebb9bdd",
   "metadata": {},
   "source": [
    "## Ejercicio 4: Carrera de pollos\n",
    "Crea un programa que simule segundo a segundo la acción de un pollo que recorre una\n",
    "distancia de 100 metros. Pide al usuario que ingrese la velocidad a la que puede correr el\n",
    "pollo, y usando un ciclo while muestra un emoji de pollo 🐥 que se vaya moviendo hacia la\n",
    "derecha en cada impresión, como se muestra en los ejemplos."
   ]
  },
  {
   "cell_type": "code",
   "execution_count": 23,
   "id": "fca6ffca-26fe-4016-ace7-8dbec4262874",
   "metadata": {},
   "outputs": [
    {
     "name": "stdout",
     "output_type": "stream",
     "text": [
      "🐥 Bienvenido a la carrera de pollos 🐥\n"
     ]
    },
    {
     "name": "stdin",
     "output_type": "stream",
     "text": [
      "Ingrese la velocidad del pollo (metros por segundo):  40\n"
     ]
    },
    {
     "name": "stdout",
     "output_type": "stream",
     "text": [
      "                                        🐥\n",
      "----------------------------------------------------------------------------------------------------\n",
      "Distancia recorrida: 40 metros\n",
      "\n",
      "\n",
      "                                                                                🐥\n",
      "----------------------------------------------------------------------------------------------------\n",
      "Distancia recorrida: 80 metros\n",
      "\n",
      "\n",
      "                                                                                                    🐥\n",
      "----------------------------------------------------------------------------------------------------\n",
      "Distancia recorrida: 100 metros\n",
      "\n",
      "\n",
      "¡El pollo ha llegado a la meta! 🏁\n"
     ]
    }
   ],
   "source": [
    "# Damos la bienvenida\n",
    "print(\"🐥 Bienvenido a la carrera de pollos 🐥\")\n",
    "\n",
    "# Pedimos al usuario que ingrese la velocidad del pollo\n",
    "# Usamos un bucle while para asegurarnos de que la velocidad sea un número válido\n",
    "velocidad = 0\n",
    "while velocidad <= 0:\n",
    "    try:\n",
    "        velocidad = int(input(\"Ingrese la velocidad del pollo (metros por segundo): \"))\n",
    "        if velocidad <= 0:\n",
    "            print(\"Por favor, ingrese una velocidad positiva.\")\n",
    "    except ValueError:\n",
    "        print(\"Entrada inválida. Por favor, ingrese un número entero.\")\n",
    "\n",
    "# Creamos la variable para la distancia recorrida\n",
    "distancia_recorrida = 0\n",
    "\n",
    "# Creamos el ciclo para la carrera\n",
    "while distancia_recorrida < 100:\n",
    "    # Actualizamos la distancia recorrida\n",
    "    distancia_recorrida += velocidad\n",
    "\n",
    "    # Nos aseguramos que el pollo no pase de la meta\n",
    "    if distancia_recorrida > 100:\n",
    "        distancia_recorrida = 100\n",
    "\n",
    "    # Imprimimos la pista de la carrera y el pollo en la pista\n",
    "    espacios = \" \" * distancia_recorrida\n",
    "    print(f\"{espacios}🐥\")\n",
    "    print(\"-\" * 100)  \n",
    "    print(f\"Distancia recorrida: {distancia_recorrida} metros\")\n",
    "    print(\"\\n\")  \n",
    "\n",
    "    # Simulación de la pausa: el bucle for ralentiza el programa\n",
    "    for i in range(10000000):\n",
    "        pass  \n",
    "\n",
    "# Mostramos el mensaje final cuando la carrera termina\n",
    "print(\"¡El pollo ha llegado a la meta! 🏁\")"
   ]
  },
  {
   "cell_type": "code",
   "execution_count": null,
   "id": "46a0a9e1-87fe-421c-9562-58ecd8acc03d",
   "metadata": {},
   "outputs": [],
   "source": []
  }
 ],
 "metadata": {
  "kernelspec": {
   "display_name": "Python 3 (ipykernel)",
   "language": "python",
   "name": "python3"
  },
  "language_info": {
   "codemirror_mode": {
    "name": "ipython",
    "version": 3
   },
   "file_extension": ".py",
   "mimetype": "text/x-python",
   "name": "python",
   "nbconvert_exporter": "python",
   "pygments_lexer": "ipython3",
   "version": "3.13.7"
  }
 },
 "nbformat": 4,
 "nbformat_minor": 5
}
