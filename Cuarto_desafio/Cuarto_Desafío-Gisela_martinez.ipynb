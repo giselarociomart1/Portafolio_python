{
 "cells": [
  {
   "cell_type": "markdown",
   "id": "8a8bce64-a5e4-4a8b-a8f8-7ffe60e5a42b",
   "metadata": {},
   "source": [
    "# Desafío - Tipos y estructuras de Datos (Parte II)"
   ]
  },
  {
   "cell_type": "markdown",
   "id": "9b46bb25-44af-48e1-8268-6020de400e49",
   "metadata": {},
   "source": [
    "1. Para desarrollar este desafío necesitarás el archivo: \n",
    "                    resumen_resultados_astronautas.csv. El IMC es una medida importante que nos ayuda a determinar si una persona\n",
    "tiene un peso saludable para poder ser un astronauta. Para calcularlo se utiliza la\n",
    "fórmula\n",
    "                       **IMC = m / h*h**\n",
    "Donde m corresponde al peso del astronauta en kilogramos, y h su estatura en metros\n",
    "El rendimiento en las diferentes evaluaciones permitirá también aceptar o rechazar a los\n",
    "postulantes. Para ello:\n",
    "\n",
    "1. Crea un DataFrame con el archivo entregado.\n",
    "2. Crea la columna \"IMC\" usando la fórmula entregada.\n",
    "3. Crea la columna \"promedio_evaluaciones\" con el promedio de las 4 columnas\n",
    "de evaluaciones. Si el IMC está entre 18.5 y 24.9, entonces el candidato\n",
    "tendrá un IMC adecuado para ser astronauta. Filtra el DataFrame para\n",
    "obtener solo aquellas filas donde el IMC esté dentro de los límites\n",
    "entregados.\n",
    "4. El promedio de las 4 evaluaciones debe ser mayor o igual a 87. Filtra el\n",
    "DataFrame resultante y agrega esta condición al filtro aplicado en el paso\n",
    "anterior.\n",
    "5. Reinicia el índice del DataFrame resultante.\n",
    "6. Modifica el valor de la columna \"califica\", para que diga \"Si\" en todas las filas del\n",
    "DataFrame resultante.\n",
    "7. Exporta el DataFrame resultante a un archivo .csv separado por comas con el\n",
    "nombre \"astronautas_calificados.csv\"."
   ]
  },
  {
   "cell_type": "code",
   "execution_count": 7,
   "id": "531beaac-a54f-40b0-8ed5-a7a81c9cdf59",
   "metadata": {},
   "outputs": [],
   "source": [
    "# Primero importamos la librería de pandas para poder crear el dataframe.\n",
    "import pandas as pd\n",
    "\n",
    "# Creamos el dataframe con el nombre de \"df\" usando el archivo \"resumen_resultados_astronautas.csv\".\n",
    "df=pd.read_csv(\"resumen_resultados_astronautas.csv\")\n",
    "\n",
    "# Antes de calcular el IMC, vamos a realizar una pequeña correccón.\n",
    "# La altura nos dan en centímetros, pero la necesitamos en metros. Entonces vamos a dividir esa columna entre 100.\n",
    "df[\"altura\"]=df[\"altura\"]/100\n",
    "\n",
    "# Creamos la columna IMC usando IMC = m / h*h.\n",
    "IMC=df[\"peso\"]/(df[\"altura\"]*df[\"altura\"])\n",
    "\n",
    "# Agregamos el IMC al dataframe\n",
    "df[\"imc\"]=IMC\n",
    "\n",
    "# Creamos la columna \"Promedio_evaluaciones\".\n",
    "columnas=[\"evaluacion_fisica\",\"evaluacion_psicologica\",\"evaluacion_adaptativa\",\"evaluacion_medica\"]\n",
    "df['promedio_evaluaciones'] = df[columnas].mean(axis=1)\n",
    "\n",
    "# Filtramos el dataframe por el IMC, debe estar entre 18.5 y 24.9 para que el candidato sea adecuado.\n",
    "df_filtrado=df[(df['imc'] > 18.5) & (df['imc'] <24.9)]\n",
    "\n",
    "# Ahora filtramos por la columna promedio_evaluaciones, que debe ser mayor o igual a 87.\n",
    "df_filtrado=df_filtrado[df_filtrado[\"promedio_evaluaciones\"]>= 87]\n",
    "\n",
    "# Reiniciamos los indices del dataframe filtrado.\n",
    "df_filtrado=df_filtrado.reset_index()\n",
    "\n",
    "# Modificamos el valor de la columna \"califica\", para que diga \"Si\" en todas las filas.\n",
    "df_filtrado['califica']=\"Si\"\n",
    "\n",
    "# Exportamos a un archivo .csv.\n",
    "df_filtrado.to_csv(r\"C:\\Users\\USUARIO\\Desktop\\Desafios\\astronautas_calificados.csv\", index = True, sep=\",\")"
   ]
  }
 ],
 "metadata": {
  "kernelspec": {
   "display_name": "Python 3 (ipykernel)",
   "language": "python",
   "name": "python3"
  },
  "language_info": {
   "codemirror_mode": {
    "name": "ipython",
    "version": 3
   },
   "file_extension": ".py",
   "mimetype": "text/x-python",
   "name": "python",
   "nbconvert_exporter": "python",
   "pygments_lexer": "ipython3",
   "version": "3.13.7"
  }
 },
 "nbformat": 4,
 "nbformat_minor": 5
}
