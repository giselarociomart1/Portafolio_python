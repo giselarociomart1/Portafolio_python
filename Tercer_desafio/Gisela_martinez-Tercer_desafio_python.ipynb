{
 "cells": [
  {
   "cell_type": "markdown",
   "id": "e1b9e39b-a6c0-4898-a3ab-cc2d263283b4",
   "metadata": {},
   "source": [
    "# Tipos y Estructuras de datos (Parte I)"
   ]
  },
  {
   "cell_type": "markdown",
   "id": "e03f7db0-dd88-4dd6-8c57-d2ec0158cb62",
   "metadata": {},
   "source": [
    "## Actividad 1\n",
    "Usando la siguiente lista:\n",
    "lista = [\"manzana\", \"pera\", \"naranja\", \"plátano\", \"kiwi\", \"uva\", \"piña\",\n",
    "\"mango\", \"sandía\", \"melón\"]\n",
    "a. Imprime el quinto elemento de la lista.\n",
    "b. Imprime del cuarto al sexto inclusive.\n",
    "c. Elimina el elemento en la posición 3\n",
    "d. Agrega dos nuevos elementos a la lista\n",
    "e. Ordena la lista alfabéticamente.\n",
    "f. Genera un diccionario usando lista1 como llaves y lista como valores.\n",
    "lista1 = [\"uno\", \"dos\", \"tres\", \"cuatro\", \"cinco\", \"seis\", \"siete\",\n",
    "\"ocho\", \"nueve\", \"diez\"]"
   ]
  },
  {
   "cell_type": "code",
   "execution_count": 8,
   "id": "3ca1911b-d463-49dc-a842-1b0cc61615ed",
   "metadata": {},
   "outputs": [
    {
     "name": "stdout",
     "output_type": "stream",
     "text": [
      "kiwi\n",
      "['plátano', 'kiwi', 'uva']\n",
      "['manzana', 'pera', 'naranja', 'kiwi', 'uva', 'piña', 'mango', 'sandía', 'melón']\n",
      "['manzana', 'pera', 'naranja', 'kiwi', 'uva', 'piña', 'mango', 'sandía', 'melón', 'pomelo', 'frutilla']\n",
      "['frutilla', 'kiwi', 'mango', 'manzana', 'melón', 'naranja', 'pera', 'piña', 'pomelo', 'sandía', 'uva']\n",
      "{'uno': 'frutilla', 'dos': 'kiwi', 'tres': 'mango', 'cuatro': 'manzana', 'cinco': 'melón', 'seis': 'naranja', 'siete': 'pera', 'ocho': 'piña', 'nueve': 'pomelo', 'diez': 'sandía'}\n"
     ]
    }
   ],
   "source": [
    "# Listas que vamos a usar\n",
    "lista = [\"manzana\", \"pera\", \"naranja\", \"plátano\", \"kiwi\", \"uva\", \"piña\",\n",
    "\"mango\", \"sandía\", \"melón\"]\n",
    "\n",
    "lista1 = [\"uno\", \"dos\", \"tres\", \"cuatro\", \"cinco\", \"seis\", \"siete\",\n",
    "\"ocho\", \"nueve\", \"diez\"]\n",
    "\n",
    "# a. Imprimimos el quinto elemento de la lista (4)\n",
    "print(lista[4])\n",
    "\n",
    "# b. Impimimos del cuarto (3) al sexto elemento (5)\n",
    "print(lista[3:6])\n",
    "\n",
    "# c. Eliminamos el elemnto de la pocisión 3\n",
    "lista.pop(3)\n",
    "print(lista) #Imprimimos la lista para confirmar que el elemento se borró\n",
    "\n",
    "# d. Agregamos dos elemntos a la lista (una de las formas de agregar elementos a la lista)\n",
    "\n",
    "Lista_aux=[\"pomelo\",\"frutilla\"] #Creamos una lista auxiliar para poder agregar los dos elementos de una sola vez\n",
    "lista=lista+Lista_aux\n",
    "print(lista)\n",
    "\n",
    "# e. Ordenamos la lista alfabéticamente\n",
    "\n",
    "lista.sort()\n",
    "print(lista)\n",
    "\n",
    "# f. Generamos un diccionario a partir de 2 listas\n",
    "\n",
    "dic_frutas=dict(zip(lista1,lista)) #dict(zip(clave,valor))\n",
    "print(dic_frutas)"
   ]
  },
  {
   "cell_type": "markdown",
   "id": "b68beb42-945c-4eef-86fc-42edec7577a4",
   "metadata": {},
   "source": [
    "## Actividad 2\n",
    "Fabricación de cerveza artesanal. El LIC y el LSC son calculados utilizando la media y la desviación estándar de los datos del\n",
    "proceso. La idea es que la mayoría de los datos del proceso se encuentren dentro de los límites\n",
    "de control (entre el LIC y el LSC), y si un dato cae fuera de estos límites, se puede considerar\n",
    "que el proceso está fuera de control y se requiere una acción correctiva para investigar y\n",
    "corregir la causa de la variación. El valor del LIC se calcula como la media menos tres veces la\n",
    "desviación estándar, y el valor del LSC se calcula como la media más tres veces la\n",
    "desviación estándar. Estos límites representan el rango en el que la mayoría de los datos del\n",
    "proceso deberían estar.\n",
    "\n",
    "● Importa la librería NumPy.\n",
    "● Carga los datos del archivo csv en una variable llamada array, usando\n",
    "np.loadtxt(“alcohol_cerveza.csv”) y modifica los parámetros necesarios para leer bien el\n",
    "archivo.\n",
    "● Calcula la media de los datos utilizando la función mean de NumPy y almacena el\n",
    "resultado en una variable llamada media.\n",
    "● Calcula la desviación estándar de los datos utilizando la función std de NumPy y\n",
    "almacena el resultado en una variable llamada desviacion.\n",
    "● Calcula el límite inferior de control (LIC) utilizando la fórmula: media - (3 * desviacion)\n",
    "y almacena el resultado en una variable llamada lic.\n",
    "● Calcula el límite superior de control (LSC) utilizando la fórmula: media + (3 *\n",
    "desviacion) y almacena el resultado en una variable llamada lsc.\n",
    "● Imprime los resultados de la media, la desviación estándar, el LIC y el LSC.\n",
    "● Filtra el array utilizando np.logical_or(condicion1, condicion2) para obtener los valores\n",
    "fuera de los límites de control."
   ]
  },
  {
   "cell_type": "code",
   "execution_count": null,
   "id": "e8138b5c-920b-4d12-9972-0c663ddc746a",
   "metadata": {
    "scrolled": true
   },
   "outputs": [
    {
     "name": "stdout",
     "output_type": "stream",
     "text": [
      "Cantidad total de datos: 1001\n",
      "La media de los datos es: 5.005\n",
      "La desviación estándar de los datos es: 0.349\n",
      "El límite inferior de control (LIC) es: 3.957\n",
      "El límite superior de control (LSC) es: 6.053\n",
      "\n",
      "--- Análisis de valores fuera de límites ---\n",
      "Los valores que quedan fuera de los límites de control son: [0.   3.87]\n",
      "La cantidad de valores fuera de los límites es: 2\n"
     ]
    }
   ],
   "source": [
    "# Importamos la librería numpy.\n",
    "import numpy as np\n",
    "\n",
    "# Cargamos los datos del archivo csv en una variable llamada \"array\".\n",
    "array = np.loadtxt(\"alcohol_cerveza.csv\", delimiter=\",\", dtype=\"float\")\n",
    "\n",
    "# Calculamos la media y lo almacenamos el resultado en una variable \"media\".\n",
    "media=np.mean(array)\n",
    "\n",
    "# Calculamos la desviacón estándar y almacenamos el resultado.\n",
    "desviacion=np.std(array)\n",
    "\n",
    "# Calculamos el límite inferior de control (LIC) y lo almacenamos en una variable.\n",
    "lic= media-(3*desviacion)\n",
    "\n",
    "# Calculamos el límite superior de control (LSC) y almacenamos en una variable.\n",
    "lsc=media +(3*desviacion)\n",
    "\n",
    "# Filtramos el array para obtener los valores fuera de los límites de control.\n",
    "datos_filtrados=array[np.logical_or(array < lic, array > lsc)]\n",
    "\n",
    "# Contamos cuántos valores están fuera de los límites.\n",
    "cantidad_fuera_de_limites = len(datos_filtrados)\n",
    "\n",
    "# Conytamos la cantidad de datos de array\n",
    "cabtidad_total=len(array)\n",
    "\n",
    "# Mostramos los resultados\n",
    "print(f\"Cantidad total de datos: {cantidad_total}\")\n",
    "print(f\"La media de los datos es: {media:.3f}\")\n",
    "print(f\"La desviación estándar de los datos es: {desviacion:.3f}\")\n",
    "print(f\"El límite inferior de control (LIC) es: {lic:.3f}\")\n",
    "print(f\"El límite superior de control (LSC) es: {lsc:.3f}\")\n",
    "print(\"\\n--- Análisis de valores fuera de límites ---\")\n",
    "print(f\"Los valores que quedan fuera de los límites de control son: {datos_filtrados}\")\n",
    "print(f\"La cantidad de valores fuera de los límites es: {cantidad_fuera_de_limites}\")"
   ]
  },
  {
   "cell_type": "code",
   "execution_count": null,
   "id": "e43f1a65-9cbc-47d8-8c40-cecf9b93504f",
   "metadata": {},
   "outputs": [],
   "source": []
  }
 ],
 "metadata": {
  "kernelspec": {
   "display_name": "Python 3 (ipykernel)",
   "language": "python",
   "name": "python3"
  },
  "language_info": {
   "codemirror_mode": {
    "name": "ipython",
    "version": 3
   },
   "file_extension": ".py",
   "mimetype": "text/x-python",
   "name": "python",
   "nbconvert_exporter": "python",
   "pygments_lexer": "ipython3",
   "version": "3.13.7"
  }
 },
 "nbformat": 4,
 "nbformat_minor": 5
}
