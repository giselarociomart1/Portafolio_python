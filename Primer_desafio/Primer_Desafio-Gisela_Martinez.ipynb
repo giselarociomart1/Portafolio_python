{
 "cells": [
  {
   "cell_type": "markdown",
   "id": "1ca6a577",
   "metadata": {},
   "source": [
    "# PRIMER DESAFÍO"
   ]
  },
  {
   "cell_type": "markdown",
   "id": "d7ddb736-4df8-441a-8b6f-f5dcfc6fea12",
   "metadata": {},
   "source": [
    "## 1-Calculando el salario semanal.\n",
    "Un vendedor gana un salario base de $500 más una comisión del 10% sobre sus\n",
    "ventas totales. Escribe un programa donde se pueda ingresar el monto de las ventas\n",
    "totales del vendedor y calcule su salario total."
   ]
  },
  {
   "cell_type": "code",
   "execution_count": 5,
   "id": "b7ac5b21-1761-4a90-9127-cb1d7006af75",
   "metadata": {},
   "outputs": [
    {
     "name": "stdout",
     "output_type": "stream",
     "text": [
      "Ingrese el monto de las ventas 300\n"
     ]
    },
    {
     "name": "stdout",
     "output_type": "stream",
     "text": [
      "El salario más el porcentaje de comisiones es $530.0\n"
     ]
    }
   ],
   "source": [
    "#Sueldo base del vendedor\n",
    "salario_base=500\n",
    "\n",
    "#Comision\n",
    "comision=0.10\n",
    "\n",
    "#Solicitamos ingresar el valor de las ventas\n",
    "monto_ventas=int(input(\"Ingrese el monto de las ventas\"))\n",
    "\n",
    "#Calculamos el salario del vendedor\n",
    "salario=salario_base+monto_ventas*comision\n",
    "\n",
    "#Mostramos el resultado\n",
    "print(f'El salario más el porcentaje de comisiones es ${salario}.')"
   ]
  },
  {
   "cell_type": "markdown",
   "id": "4e0c7f13-86d4-4dad-b04a-7a360798a645",
   "metadata": {},
   "source": [
    "## 2-Bienvenido a la frutería virtual.\n",
    "En este ejercicio, vamos a crear un diccionario vacío llamado catalogo_frutas {'fruta':\n",
    "precio} y agregar algunas frutas con sus precios. Luego, le pediremos al usuario que\n",
    "ingrese el nombre de una fruta y verificaremos si esa fruta está en el diccionario. Si\n",
    "la fruta está en el diccionario, mostraremos el precio al usuario. Si la fruta no está en\n",
    "el diccionario, le diremos al usuario que no se encuentra esa fruta en nuestra tienda."
   ]
  },
  {
   "cell_type": "code",
   "execution_count": 16,
   "id": "c0fc9f34-4ea1-4cfa-9277-36c2ccc3dcd0",
   "metadata": {},
   "outputs": [
    {
     "name": "stdout",
     "output_type": "stream",
     "text": [
      "Ingrese el nombre de la fruta arandanos\n"
     ]
    },
    {
     "name": "stdout",
     "output_type": "stream",
     "text": [
      "La fruta arandanos no está disponible en nuestro catálogo\n"
     ]
    }
   ],
   "source": [
    "#Creamos el diccionario\n",
    "catalogo_frutas={'fruta':'precio'}\n",
    "\n",
    "#Ingresamos algunas frutas\n",
    "catalogo_frutas['pera']=20\n",
    "catalogo_frutas['manzana']=30\n",
    "catalogo_frutas['uvas']=45\n",
    "catalogo_frutas['frutillas']=60\n",
    "catalogo_frutas['kiwi']=70\n",
    "\n",
    "#Solicitamos el nombre de la fruta\n",
    "nombre_fruta=input(\"Ingrese el nombre de la fruta\")\n",
    "\n",
    "# Verificamos si la fruta está en el diccionario\n",
    "if nombre_fruta in catalogo_frutas:\n",
    "    precio = catalogo_frutas[nombre_fruta]\n",
    "    print(f'El precio de {nombre_fruta} es ${precio}')\n",
    "else:\n",
    "    print(f'La fruta {nombre_fruta} no está disponible en nuestro catálogo.')\n"
   ]
  },
  {
   "cell_type": "markdown",
   "id": "cc6fe5f2-89eb-4704-9899-c85a11a30664",
   "metadata": {},
   "source": [
    "## 3-Juego de dados.\n",
    "En este juego, tienes que lanzar dos dados y el programa mostrará los valores\n",
    "obtenidos en cada dado y la suma de ambos valores. Debes generar dos números\n",
    "aleatorios entre 1 y 6 que representan los valores obtenidos en cada dado usando la\n",
    "librería random. Luego, el programa debe mostrar los valores obtenidos en cada\n",
    "dado y la suma de ambos valores en la pantalla."
   ]
  },
  {
   "cell_type": "code",
   "execution_count": 20,
   "id": "76cfacff-ef3b-4c51-83a3-c3deff4ee9b2",
   "metadata": {},
   "outputs": [
    {
     "name": "stdout",
     "output_type": "stream",
     "text": [
      "El Primer dado nos da el valor de 2, el segundo 4 y la suma de ambos es 6\n"
     ]
    }
   ],
   "source": [
    "#Primero importamos la librería para generar los número aleatorios\n",
    "import random\n",
    "\n",
    "#Generamos los número aleatorios para los dados\n",
    "dado1=random.randint(1,6)\n",
    "dado2=random.randint(1,6)\n",
    "\n",
    "#Sumamos los valores\n",
    "suma=dado1+dado2\n",
    "\n",
    "#Mostramos los valores de los dados\n",
    "print(f'El Primer dado nos da el valor de {dado1}, el segundo {dado2} y la suma de ambos es {suma}.')"
   ]
  },
  {
   "cell_type": "markdown",
   "id": "49a1bada-aac1-4540-9f75-ca253ffa8565",
   "metadata": {},
   "source": [
    "## 4-Calculadora de chocolate.\n",
    "Crea un programa que calcule la cantidad de chocolate que puedes comer sin\n",
    "pasarte de tu límite diario de calorías. El programa debe preguntar al usuario su\n",
    "límite diario de calorías y la cantidad de calorías que tiene una porción de chocolate.\n",
    "Luego, debe calcular la cantidad máxima de chocolate que se puede comer sin\n",
    "exceder el límite diario de calorías y mostrarla en pantalla."
   ]
  },
  {
   "cell_type": "code",
   "execution_count": 22,
   "id": "392503ab-2c76-485b-8e95-a6231cded697",
   "metadata": {},
   "outputs": [
    {
     "name": "stdout",
     "output_type": "stream",
     "text": [
      "Ingrese su límite diario de calorias 350\n",
      "Ingrese la cantidad de calorias de la barrita de chocolate 100\n"
     ]
    },
    {
     "name": "stdout",
     "output_type": "stream",
     "text": [
      "Puede consumir 3 barritas de chocolate sin exeder su límite diario de calorias.\n"
     ]
    }
   ],
   "source": [
    "#Solicitamos el límite de calorias diarios\n",
    "limite_diario=int(input('Ingrese su límite diario de calorias'))\n",
    "\n",
    "#Solicitamos la cantidad de calorias de la barrita de chocolate\n",
    "calorias_barrita=int(input('Ingrese la cantidad de calorias de la barrita de chocolate'))\n",
    "\n",
    "#Hacemos el cálculo para saber la cantidad de chocolate que puede consumir\n",
    "cantidad_chocolate=limite_diario//calorias_barrita\n",
    "\n",
    "#Mostramos el resultado\n",
    "print(f'Puede consumir {cantidad_chocolate} barritas de chocolate sin exeder su límite diario de calorias.')"
   ]
  }
 ],
 "metadata": {
  "kernelspec": {
   "display_name": "Python 3 (ipykernel)",
   "language": "python",
   "name": "python3"
  },
  "language_info": {
   "codemirror_mode": {
    "name": "ipython",
    "version": 3
   },
   "file_extension": ".py",
   "mimetype": "text/x-python",
   "name": "python",
   "nbconvert_exporter": "python",
   "pygments_lexer": "ipython3",
   "version": "3.13.7"
  }
 },
 "nbformat": 4,
 "nbformat_minor": 5
}
